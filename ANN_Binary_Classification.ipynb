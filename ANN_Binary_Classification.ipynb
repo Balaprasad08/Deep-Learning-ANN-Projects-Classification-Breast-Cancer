{
  "nbformat": 4,
  "nbformat_minor": 0,
  "metadata": {
    "colab": {
      "name": "ANN Binary Classification.ipynb",
      "provenance": [],
      "collapsed_sections": []
    },
    "kernelspec": {
      "name": "python3",
      "display_name": "Python 3"
    }
  },
  "cells": [
    {
      "cell_type": "code",
      "metadata": {
        "id": "Cjnfd6BP1iyh"
      },
      "source": [
        "import numpy as np\r\n",
        "import pandas as pd\r\n",
        "import matplotlib.pyplot as plt\r\n",
        "import seaborn as sns\r\n",
        "import warnings\r\n",
        "warnings.filterwarnings('ignore')"
      ],
      "execution_count": 1,
      "outputs": []
    },
    {
      "cell_type": "code",
      "metadata": {
        "colab": {
          "resources": {
            "http://localhost:8080/nbextensions/google.colab/files.js": {
              "data": "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",
              "ok": true,
              "headers": [
                [
                  "content-type",
                  "application/javascript"
                ]
              ],
              "status": 200,
              "status_text": ""
            }
          },
          "base_uri": "https://localhost:8080/",
          "height": 89
        },
        "id": "BalYm0O76CJe",
        "outputId": "c2d55613-177c-4d28-8963-7e66f4e8ea22"
      },
      "source": [
        "from google.colab import files\n",
        "\n",
        "uploaded = files.upload()\n",
        "\n",
        "for fn in uploaded.keys():\n",
        "  print('User uploaded file \"{name}\" with length {length} bytes'.format(\n",
        "      name=fn, length=len(uploaded[fn])))"
      ],
      "execution_count": 2,
      "outputs": [
        {
          "output_type": "display_data",
          "data": {
            "text/html": [
              "\n",
              "     <input type=\"file\" id=\"files-7db19070-167b-45d6-be7c-8a47dc7b59d9\" name=\"files[]\" multiple disabled\n",
              "        style=\"border:none\" />\n",
              "     <output id=\"result-7db19070-167b-45d6-be7c-8a47dc7b59d9\">\n",
              "      Upload widget is only available when the cell has been executed in the\n",
              "      current browser session. Please rerun this cell to enable.\n",
              "      </output>\n",
              "      <script src=\"/nbextensions/google.colab/files.js\"></script> "
            ],
            "text/plain": [
              "<IPython.core.display.HTML object>"
            ]
          },
          "metadata": {
            "tags": []
          }
        },
        {
          "output_type": "stream",
          "text": [
            "Saving data.csv to data (1).csv\n",
            "User uploaded file \"data.csv\" with length 125204 bytes\n"
          ],
          "name": "stdout"
        }
      ]
    },
    {
      "cell_type": "code",
      "metadata": {
        "id": "EQkKiF986E0H"
      },
      "source": [
        "df=pd.read_csv('data.csv')\r\n",
        "pd.set_option('display.max_rows',None)\r\n",
        "pd.set_option('display.max_columns',None)"
      ],
      "execution_count": 3,
      "outputs": []
    },
    {
      "cell_type": "code",
      "metadata": {
        "colab": {
          "base_uri": "https://localhost:8080/",
          "height": 148
        },
        "id": "BvH5vrVT6Q_6",
        "outputId": "744ccf69-c6db-4509-ed6c-62cff0db438a"
      },
      "source": [
        "df.head(2)"
      ],
      "execution_count": 4,
      "outputs": [
        {
          "output_type": "execute_result",
          "data": {
            "text/html": [
              "<div>\n",
              "<style scoped>\n",
              "    .dataframe tbody tr th:only-of-type {\n",
              "        vertical-align: middle;\n",
              "    }\n",
              "\n",
              "    .dataframe tbody tr th {\n",
              "        vertical-align: top;\n",
              "    }\n",
              "\n",
              "    .dataframe thead th {\n",
              "        text-align: right;\n",
              "    }\n",
              "</style>\n",
              "<table border=\"1\" class=\"dataframe\">\n",
              "  <thead>\n",
              "    <tr style=\"text-align: right;\">\n",
              "      <th></th>\n",
              "      <th>id</th>\n",
              "      <th>diagnosis</th>\n",
              "      <th>radius_mean</th>\n",
              "      <th>texture_mean</th>\n",
              "      <th>perimeter_mean</th>\n",
              "      <th>area_mean</th>\n",
              "      <th>smoothness_mean</th>\n",
              "      <th>compactness_mean</th>\n",
              "      <th>concavity_mean</th>\n",
              "      <th>concave points_mean</th>\n",
              "      <th>symmetry_mean</th>\n",
              "      <th>fractal_dimension_mean</th>\n",
              "      <th>radius_se</th>\n",
              "      <th>texture_se</th>\n",
              "      <th>perimeter_se</th>\n",
              "      <th>area_se</th>\n",
              "      <th>smoothness_se</th>\n",
              "      <th>compactness_se</th>\n",
              "      <th>concavity_se</th>\n",
              "      <th>concave points_se</th>\n",
              "      <th>symmetry_se</th>\n",
              "      <th>fractal_dimension_se</th>\n",
              "      <th>radius_worst</th>\n",
              "      <th>texture_worst</th>\n",
              "      <th>perimeter_worst</th>\n",
              "      <th>area_worst</th>\n",
              "      <th>smoothness_worst</th>\n",
              "      <th>compactness_worst</th>\n",
              "      <th>concavity_worst</th>\n",
              "      <th>concave points_worst</th>\n",
              "      <th>symmetry_worst</th>\n",
              "      <th>fractal_dimension_worst</th>\n",
              "      <th>Unnamed: 32</th>\n",
              "    </tr>\n",
              "  </thead>\n",
              "  <tbody>\n",
              "    <tr>\n",
              "      <th>0</th>\n",
              "      <td>842302</td>\n",
              "      <td>M</td>\n",
              "      <td>17.99</td>\n",
              "      <td>10.38</td>\n",
              "      <td>122.8</td>\n",
              "      <td>1001.0</td>\n",
              "      <td>0.11840</td>\n",
              "      <td>0.27760</td>\n",
              "      <td>0.3001</td>\n",
              "      <td>0.14710</td>\n",
              "      <td>0.2419</td>\n",
              "      <td>0.07871</td>\n",
              "      <td>1.0950</td>\n",
              "      <td>0.9053</td>\n",
              "      <td>8.589</td>\n",
              "      <td>153.40</td>\n",
              "      <td>0.006399</td>\n",
              "      <td>0.04904</td>\n",
              "      <td>0.05373</td>\n",
              "      <td>0.01587</td>\n",
              "      <td>0.03003</td>\n",
              "      <td>0.006193</td>\n",
              "      <td>25.38</td>\n",
              "      <td>17.33</td>\n",
              "      <td>184.6</td>\n",
              "      <td>2019.0</td>\n",
              "      <td>0.1622</td>\n",
              "      <td>0.6656</td>\n",
              "      <td>0.7119</td>\n",
              "      <td>0.2654</td>\n",
              "      <td>0.4601</td>\n",
              "      <td>0.11890</td>\n",
              "      <td>NaN</td>\n",
              "    </tr>\n",
              "    <tr>\n",
              "      <th>1</th>\n",
              "      <td>842517</td>\n",
              "      <td>M</td>\n",
              "      <td>20.57</td>\n",
              "      <td>17.77</td>\n",
              "      <td>132.9</td>\n",
              "      <td>1326.0</td>\n",
              "      <td>0.08474</td>\n",
              "      <td>0.07864</td>\n",
              "      <td>0.0869</td>\n",
              "      <td>0.07017</td>\n",
              "      <td>0.1812</td>\n",
              "      <td>0.05667</td>\n",
              "      <td>0.5435</td>\n",
              "      <td>0.7339</td>\n",
              "      <td>3.398</td>\n",
              "      <td>74.08</td>\n",
              "      <td>0.005225</td>\n",
              "      <td>0.01308</td>\n",
              "      <td>0.01860</td>\n",
              "      <td>0.01340</td>\n",
              "      <td>0.01389</td>\n",
              "      <td>0.003532</td>\n",
              "      <td>24.99</td>\n",
              "      <td>23.41</td>\n",
              "      <td>158.8</td>\n",
              "      <td>1956.0</td>\n",
              "      <td>0.1238</td>\n",
              "      <td>0.1866</td>\n",
              "      <td>0.2416</td>\n",
              "      <td>0.1860</td>\n",
              "      <td>0.2750</td>\n",
              "      <td>0.08902</td>\n",
              "      <td>NaN</td>\n",
              "    </tr>\n",
              "  </tbody>\n",
              "</table>\n",
              "</div>"
            ],
            "text/plain": [
              "       id diagnosis  radius_mean  texture_mean  perimeter_mean  area_mean  \\\n",
              "0  842302         M        17.99         10.38           122.8     1001.0   \n",
              "1  842517         M        20.57         17.77           132.9     1326.0   \n",
              "\n",
              "   smoothness_mean  compactness_mean  concavity_mean  concave points_mean  \\\n",
              "0          0.11840           0.27760          0.3001              0.14710   \n",
              "1          0.08474           0.07864          0.0869              0.07017   \n",
              "\n",
              "   symmetry_mean  fractal_dimension_mean  radius_se  texture_se  perimeter_se  \\\n",
              "0         0.2419                 0.07871     1.0950      0.9053         8.589   \n",
              "1         0.1812                 0.05667     0.5435      0.7339         3.398   \n",
              "\n",
              "   area_se  smoothness_se  compactness_se  concavity_se  concave points_se  \\\n",
              "0   153.40       0.006399         0.04904       0.05373            0.01587   \n",
              "1    74.08       0.005225         0.01308       0.01860            0.01340   \n",
              "\n",
              "   symmetry_se  fractal_dimension_se  radius_worst  texture_worst  \\\n",
              "0      0.03003              0.006193         25.38          17.33   \n",
              "1      0.01389              0.003532         24.99          23.41   \n",
              "\n",
              "   perimeter_worst  area_worst  smoothness_worst  compactness_worst  \\\n",
              "0            184.6      2019.0            0.1622             0.6656   \n",
              "1            158.8      1956.0            0.1238             0.1866   \n",
              "\n",
              "   concavity_worst  concave points_worst  symmetry_worst  \\\n",
              "0           0.7119                0.2654          0.4601   \n",
              "1           0.2416                0.1860          0.2750   \n",
              "\n",
              "   fractal_dimension_worst  Unnamed: 32  \n",
              "0                  0.11890          NaN  \n",
              "1                  0.08902          NaN  "
            ]
          },
          "metadata": {
            "tags": []
          },
          "execution_count": 4
        }
      ]
    },
    {
      "cell_type": "code",
      "metadata": {
        "colab": {
          "base_uri": "https://localhost:8080/"
        },
        "id": "FhetAZs86S7A",
        "outputId": "9a271a03-912f-43c8-a085-da1f81d3cc0f"
      },
      "source": [
        "df.shape"
      ],
      "execution_count": 5,
      "outputs": [
        {
          "output_type": "execute_result",
          "data": {
            "text/plain": [
              "(569, 33)"
            ]
          },
          "metadata": {
            "tags": []
          },
          "execution_count": 5
        }
      ]
    },
    {
      "cell_type": "code",
      "metadata": {
        "colab": {
          "base_uri": "https://localhost:8080/",
          "height": 313
        },
        "id": "wmAYIWbG6X2x",
        "outputId": "ae11bd9a-1677-454a-d1bd-797990f4c9d7"
      },
      "source": [
        "sns.countplot(df['diagnosis'])\r\n",
        "B,M=df['diagnosis'].value_counts()\r\n",
        "print('Benign: ',B)\r\n",
        "print('Malignant: ',M)\r\n",
        "plt.show()"
      ],
      "execution_count": 6,
      "outputs": [
        {
          "output_type": "stream",
          "text": [
            "Benign:  357\n",
            "Malignant:  212\n"
          ],
          "name": "stdout"
        },
        {
          "output_type": "display_data",
          "data": {
            "image/png": "[encoded data removed]",
            "text/plain": [
              "<Figure size 432x288 with 1 Axes>"
            ]
          },
          "metadata": {
            "tags": [],
            "needs_background": "light"
          }
        }
      ]
    },
    {
      "cell_type": "code",
      "metadata": {
        "id": "b8cvU9l26-oJ"
      },
      "source": [
        "del(df['Unnamed: 32'])"
      ],
      "execution_count": 7,
      "outputs": []
    },
    {
      "cell_type": "code",
      "metadata": {
        "colab": {
          "base_uri": "https://localhost:8080/"
        },
        "id": "Sw-leP0l7gWx",
        "outputId": "f251cb15-1242-4c7a-ddd3-29c31934fd0d"
      },
      "source": [
        "df.shape"
      ],
      "execution_count": 8,
      "outputs": [
        {
          "output_type": "execute_result",
          "data": {
            "text/plain": [
              "(569, 32)"
            ]
          },
          "metadata": {
            "tags": []
          },
          "execution_count": 8
        }
      ]
    },
    {
      "cell_type": "code",
      "metadata": {
        "colab": {
          "base_uri": "https://localhost:8080/",
          "height": 148
        },
        "id": "wxWCvjwk7h8y",
        "outputId": "0adb6c40-9563-492c-9bc8-77677071040d"
      },
      "source": [
        "df.head(2)"
      ],
      "execution_count": 9,
      "outputs": [
        {
          "output_type": "execute_result",
          "data": {
            "text/html": [
              "<div>\n",
              "<style scoped>\n",
              "    .dataframe tbody tr th:only-of-type {\n",
              "        vertical-align: middle;\n",
              "    }\n",
              "\n",
              "    .dataframe tbody tr th {\n",
              "        vertical-align: top;\n",
              "    }\n",
              "\n",
              "    .dataframe thead th {\n",
              "        text-align: right;\n",
              "    }\n",
              "</style>\n",
              "<table border=\"1\" class=\"dataframe\">\n",
              "  <thead>\n",
              "    <tr style=\"text-align: right;\">\n",
              "      <th></th>\n",
              "      <th>id</th>\n",
              "      <th>diagnosis</th>\n",
              "      <th>radius_mean</th>\n",
              "      <th>texture_mean</th>\n",
              "      <th>perimeter_mean</th>\n",
              "      <th>area_mean</th>\n",
              "      <th>smoothness_mean</th>\n",
              "      <th>compactness_mean</th>\n",
              "      <th>concavity_mean</th>\n",
              "      <th>concave points_mean</th>\n",
              "      <th>symmetry_mean</th>\n",
              "      <th>fractal_dimension_mean</th>\n",
              "      <th>radius_se</th>\n",
              "      <th>texture_se</th>\n",
              "      <th>perimeter_se</th>\n",
              "      <th>area_se</th>\n",
              "      <th>smoothness_se</th>\n",
              "      <th>compactness_se</th>\n",
              "      <th>concavity_se</th>\n",
              "      <th>concave points_se</th>\n",
              "      <th>symmetry_se</th>\n",
              "      <th>fractal_dimension_se</th>\n",
              "      <th>radius_worst</th>\n",
              "      <th>texture_worst</th>\n",
              "      <th>perimeter_worst</th>\n",
              "      <th>area_worst</th>\n",
              "      <th>smoothness_worst</th>\n",
              "      <th>compactness_worst</th>\n",
              "      <th>concavity_worst</th>\n",
              "      <th>concave points_worst</th>\n",
              "      <th>symmetry_worst</th>\n",
              "      <th>fractal_dimension_worst</th>\n",
              "    </tr>\n",
              "  </thead>\n",
              "  <tbody>\n",
              "    <tr>\n",
              "      <th>0</th>\n",
              "      <td>842302</td>\n",
              "      <td>M</td>\n",
              "      <td>17.99</td>\n",
              "      <td>10.38</td>\n",
              "      <td>122.8</td>\n",
              "      <td>1001.0</td>\n",
              "      <td>0.11840</td>\n",
              "      <td>0.27760</td>\n",
              "      <td>0.3001</td>\n",
              "      <td>0.14710</td>\n",
              "      <td>0.2419</td>\n",
              "      <td>0.07871</td>\n",
              "      <td>1.0950</td>\n",
              "      <td>0.9053</td>\n",
              "      <td>8.589</td>\n",
              "      <td>153.40</td>\n",
              "      <td>0.006399</td>\n",
              "      <td>0.04904</td>\n",
              "      <td>0.05373</td>\n",
              "      <td>0.01587</td>\n",
              "      <td>0.03003</td>\n",
              "      <td>0.006193</td>\n",
              "      <td>25.38</td>\n",
              "      <td>17.33</td>\n",
              "      <td>184.6</td>\n",
              "      <td>2019.0</td>\n",
              "      <td>0.1622</td>\n",
              "      <td>0.6656</td>\n",
              "      <td>0.7119</td>\n",
              "      <td>0.2654</td>\n",
              "      <td>0.4601</td>\n",
              "      <td>0.11890</td>\n",
              "    </tr>\n",
              "    <tr>\n",
              "      <th>1</th>\n",
              "      <td>842517</td>\n",
              "      <td>M</td>\n",
              "      <td>20.57</td>\n",
              "      <td>17.77</td>\n",
              "      <td>132.9</td>\n",
              "      <td>1326.0</td>\n",
              "      <td>0.08474</td>\n",
              "      <td>0.07864</td>\n",
              "      <td>0.0869</td>\n",
              "      <td>0.07017</td>\n",
              "      <td>0.1812</td>\n",
              "      <td>0.05667</td>\n",
              "      <td>0.5435</td>\n",
              "      <td>0.7339</td>\n",
              "      <td>3.398</td>\n",
              "      <td>74.08</td>\n",
              "      <td>0.005225</td>\n",
              "      <td>0.01308</td>\n",
              "      <td>0.01860</td>\n",
              "      <td>0.01340</td>\n",
              "      <td>0.01389</td>\n",
              "      <td>0.003532</td>\n",
              "      <td>24.99</td>\n",
              "      <td>23.41</td>\n",
              "      <td>158.8</td>\n",
              "      <td>1956.0</td>\n",
              "      <td>0.1238</td>\n",
              "      <td>0.1866</td>\n",
              "      <td>0.2416</td>\n",
              "      <td>0.1860</td>\n",
              "      <td>0.2750</td>\n",
              "      <td>0.08902</td>\n",
              "    </tr>\n",
              "  </tbody>\n",
              "</table>\n",
              "</div>"
            ],
            "text/plain": [
              "       id diagnosis  radius_mean  texture_mean  perimeter_mean  area_mean  \\\n",
              "0  842302         M        17.99         10.38           122.8     1001.0   \n",
              "1  842517         M        20.57         17.77           132.9     1326.0   \n",
              "\n",
              "   smoothness_mean  compactness_mean  concavity_mean  concave points_mean  \\\n",
              "0          0.11840           0.27760          0.3001              0.14710   \n",
              "1          0.08474           0.07864          0.0869              0.07017   \n",
              "\n",
              "   symmetry_mean  fractal_dimension_mean  radius_se  texture_se  perimeter_se  \\\n",
              "0         0.2419                 0.07871     1.0950      0.9053         8.589   \n",
              "1         0.1812                 0.05667     0.5435      0.7339         3.398   \n",
              "\n",
              "   area_se  smoothness_se  compactness_se  concavity_se  concave points_se  \\\n",
              "0   153.40       0.006399         0.04904       0.05373            0.01587   \n",
              "1    74.08       0.005225         0.01308       0.01860            0.01340   \n",
              "\n",
              "   symmetry_se  fractal_dimension_se  radius_worst  texture_worst  \\\n",
              "0      0.03003              0.006193         25.38          17.33   \n",
              "1      0.01389              0.003532         24.99          23.41   \n",
              "\n",
              "   perimeter_worst  area_worst  smoothness_worst  compactness_worst  \\\n",
              "0            184.6      2019.0            0.1622             0.6656   \n",
              "1            158.8      1956.0            0.1238             0.1866   \n",
              "\n",
              "   concavity_worst  concave points_worst  symmetry_worst  \\\n",
              "0           0.7119                0.2654          0.4601   \n",
              "1           0.2416                0.1860          0.2750   \n",
              "\n",
              "   fractal_dimension_worst  \n",
              "0                  0.11890  \n",
              "1                  0.08902  "
            ]
          },
          "metadata": {
            "tags": []
          },
          "execution_count": 9
        }
      ]
    },
    {
      "cell_type": "code",
      "metadata": {
        "colab": {
          "base_uri": "https://localhost:8080/"
        },
        "id": "gxT35ymp7kez",
        "outputId": "b74c12f0-7c6c-48ae-db16-55ce44684fda"
      },
      "source": [
        "df.isnull().sum()"
      ],
      "execution_count": 10,
      "outputs": [
        {
          "output_type": "execute_result",
          "data": {
            "text/plain": [
              "id                         0\n",
              "diagnosis                  0\n",
              "radius_mean                0\n",
              "texture_mean               0\n",
              "perimeter_mean             0\n",
              "area_mean                  0\n",
              "smoothness_mean            0\n",
              "compactness_mean           0\n",
              "concavity_mean             0\n",
              "concave points_mean        0\n",
              "symmetry_mean              0\n",
              "fractal_dimension_mean     0\n",
              "radius_se                  0\n",
              "texture_se                 0\n",
              "perimeter_se               0\n",
              "area_se                    0\n",
              "smoothness_se              0\n",
              "compactness_se             0\n",
              "concavity_se               0\n",
              "concave points_se          0\n",
              "symmetry_se                0\n",
              "fractal_dimension_se       0\n",
              "radius_worst               0\n",
              "texture_worst              0\n",
              "perimeter_worst            0\n",
              "area_worst                 0\n",
              "smoothness_worst           0\n",
              "compactness_worst          0\n",
              "concavity_worst            0\n",
              "concave points_worst       0\n",
              "symmetry_worst             0\n",
              "fractal_dimension_worst    0\n",
              "dtype: int64"
            ]
          },
          "metadata": {
            "tags": []
          },
          "execution_count": 10
        }
      ]
    },
    {
      "cell_type": "code",
      "metadata": {
        "colab": {
          "base_uri": "https://localhost:8080/",
          "height": 370
        },
        "id": "bKLZJpb-815w",
        "outputId": "0e55d955-a1f9-43d4-a6e9-1f53e1abde4c"
      },
      "source": [
        "sns.heatmap(df.isnull())"
      ],
      "execution_count": 11,
      "outputs": [
        {
          "output_type": "execute_result",
          "data": {
            "text/plain": [
              "<matplotlib.axes._subplots.AxesSubplot at 0x7fa706b9deb8>"
            ]
          },
          "metadata": {
            "tags": []
          },
          "execution_count": 11
        },
        {
          "output_type": "display_data",
          "data": {
            "image/png": "[encoded data removed]",
            "text/plain": [
              "<Figure size 432x288 with 2 Axes>"
            ]
          },
          "metadata": {
            "tags": [],
            "needs_background": "light"
          }
        }
      ]
    },
    {
      "cell_type": "code",
      "metadata": {
        "colab": {
          "base_uri": "https://localhost:8080/"
        },
        "id": "sm1S-U6m85Xu",
        "outputId": "8496e032-1739-405c-b08f-fdab727b8857"
      },
      "source": [
        "X=df.iloc[:,2:].values\r\n",
        "X"
      ],
      "execution_count": 13,
      "outputs": [
        {
          "output_type": "execute_result",
          "data": {
            "text/plain": [
              "array([[1.799e+01, 1.038e+01, 1.228e+02, ..., 2.654e-01, 4.601e-01,\n",
              "        1.189e-01],\n",
              "       [2.057e+01, 1.777e+01, 1.329e+02, ..., 1.860e-01, 2.750e-01,\n",
              "        8.902e-02],\n",
              "       [1.969e+01, 2.125e+01, 1.300e+02, ..., 2.430e-01, 3.613e-01,\n",
              "        8.758e-02],\n",
              "       ...,\n",
              "       [1.660e+01, 2.808e+01, 1.083e+02, ..., 1.418e-01, 2.218e-01,\n",
              "        7.820e-02],\n",
              "       [2.060e+01, 2.933e+01, 1.401e+02, ..., 2.650e-01, 4.087e-01,\n",
              "        1.240e-01],\n",
              "       [7.760e+00, 2.454e+01, 4.792e+01, ..., 0.000e+00, 2.871e-01,\n",
              "        7.039e-02]])"
            ]
          },
          "metadata": {
            "tags": []
          },
          "execution_count": 13
        }
      ]
    },
    {
      "cell_type": "code",
      "metadata": {
        "id": "GtM_wUai9Gnt"
      },
      "source": [
        "y=df.iloc[:,1].values"
      ],
      "execution_count": 14,
      "outputs": []
    },
    {
      "cell_type": "code",
      "metadata": {
        "colab": {
          "base_uri": "https://localhost:8080/"
        },
        "id": "GdDpp0K_9Zga",
        "outputId": "00d21bad-984e-4d11-9f81-4daa1098cb84"
      },
      "source": [
        "y"
      ],
      "execution_count": 15,
      "outputs": [
        {
          "output_type": "execute_result",
          "data": {
            "text/plain": [
              "array(['M', 'M', 'M', 'M', 'M', 'M', 'M', 'M', 'M', 'M', 'M', 'M', 'M',\n",
              "       'M', 'M', 'M', 'M', 'M', 'M', 'B', 'B', 'B', 'M', 'M', 'M', 'M',\n",
              "       'M', 'M', 'M', 'M', 'M', 'M', 'M', 'M', 'M', 'M', 'M', 'B', 'M',\n",
              "       'M', 'M', 'M', 'M', 'M', 'M', 'M', 'B', 'M', 'B', 'B', 'B', 'B',\n",
              "       'B', 'M', 'M', 'B', 'M', 'M', 'B', 'B', 'B', 'B', 'M', 'B', 'M',\n",
              "       'M', 'B', 'B', 'B', 'B', 'M', 'B', 'M', 'M', 'B', 'M', 'B', 'M',\n",
              "       'M', 'B', 'B', 'B', 'M', 'M', 'B', 'M', 'M', 'M', 'B', 'B', 'B',\n",
              "       'M', 'B', 'B', 'M', 'M', 'B', 'B', 'B', 'M', 'M', 'B', 'B', 'B',\n",
              "       'B', 'M', 'B', 'B', 'M', 'B', 'B', 'B', 'B', 'B', 'B', 'B', 'B',\n",
              "       'M', 'M', 'M', 'B', 'M', 'M', 'B', 'B', 'B', 'M', 'M', 'B', 'M',\n",
              "       'B', 'M', 'M', 'B', 'M', 'M', 'B', 'B', 'M', 'B', 'B', 'M', 'B',\n",
              "       'B', 'B', 'B', 'M', 'B', 'B', 'B', 'B', 'B', 'B', 'B', 'B', 'B',\n",
              "       'M', 'B', 'B', 'B', 'B', 'M', 'M', 'B', 'M', 'B', 'B', 'M', 'M',\n",
              "       'B', 'B', 'M', 'M', 'B', 'B', 'B', 'B', 'M', 'B', 'B', 'M', 'M',\n",
              "       'M', 'B', 'M', 'B', 'M', 'B', 'B', 'B', 'M', 'B', 'B', 'M', 'M',\n",
              "       'B', 'M', 'M', 'M', 'M', 'B', 'M', 'M', 'M', 'B', 'M', 'B', 'M',\n",
              "       'B', 'B', 'M', 'B', 'M', 'M', 'M', 'M', 'B', 'B', 'M', 'M', 'B',\n",
              "       'B', 'B', 'M', 'B', 'B', 'B', 'B', 'B', 'M', 'M', 'B', 'B', 'M',\n",
              "       'B', 'B', 'M', 'M', 'B', 'M', 'B', 'B', 'B', 'B', 'M', 'B', 'B',\n",
              "       'B', 'B', 'B', 'M', 'B', 'M', 'M', 'M', 'M', 'M', 'M', 'M', 'M',\n",
              "       'M', 'M', 'M', 'M', 'M', 'M', 'B', 'B', 'B', 'B', 'B', 'B', 'M',\n",
              "       'B', 'M', 'B', 'B', 'M', 'B', 'B', 'M', 'B', 'M', 'M', 'B', 'B',\n",
              "       'B', 'B', 'B', 'B', 'B', 'B', 'B', 'B', 'B', 'B', 'B', 'M', 'B',\n",
              "       'B', 'M', 'B', 'M', 'B', 'B', 'B', 'B', 'B', 'B', 'B', 'B', 'B',\n",
              "       'B', 'B', 'B', 'B', 'B', 'M', 'B', 'B', 'B', 'M', 'B', 'M', 'B',\n",
              "       'B', 'B', 'B', 'M', 'M', 'M', 'B', 'B', 'B', 'B', 'M', 'B', 'M',\n",
              "       'B', 'M', 'B', 'B', 'B', 'M', 'B', 'B', 'B', 'B', 'B', 'B', 'B',\n",
              "       'M', 'M', 'M', 'B', 'B', 'B', 'B', 'B', 'B', 'B', 'B', 'B', 'B',\n",
              "       'B', 'M', 'M', 'B', 'M', 'M', 'M', 'B', 'M', 'M', 'B', 'B', 'B',\n",
              "       'B', 'B', 'M', 'B', 'B', 'B', 'B', 'B', 'M', 'B', 'B', 'B', 'M',\n",
              "       'B', 'B', 'M', 'M', 'B', 'B', 'B', 'B', 'B', 'B', 'M', 'B', 'B',\n",
              "       'B', 'B', 'B', 'B', 'B', 'M', 'B', 'B', 'B', 'B', 'B', 'M', 'B',\n",
              "       'B', 'M', 'B', 'B', 'B', 'B', 'B', 'B', 'B', 'B', 'B', 'B', 'B',\n",
              "       'B', 'M', 'B', 'M', 'M', 'B', 'M', 'B', 'B', 'B', 'B', 'B', 'M',\n",
              "       'B', 'B', 'M', 'B', 'M', 'B', 'B', 'M', 'B', 'M', 'B', 'B', 'B',\n",
              "       'B', 'B', 'B', 'B', 'B', 'M', 'M', 'B', 'B', 'B', 'B', 'B', 'B',\n",
              "       'M', 'B', 'B', 'B', 'B', 'B', 'B', 'B', 'B', 'B', 'B', 'M', 'B',\n",
              "       'B', 'B', 'B', 'B', 'B', 'B', 'M', 'B', 'M', 'B', 'B', 'M', 'B',\n",
              "       'B', 'B', 'B', 'B', 'M', 'M', 'B', 'M', 'B', 'M', 'B', 'B', 'B',\n",
              "       'B', 'B', 'M', 'B', 'B', 'M', 'B', 'M', 'B', 'M', 'M', 'B', 'B',\n",
              "       'B', 'M', 'B', 'B', 'B', 'B', 'B', 'B', 'B', 'B', 'B', 'B', 'B',\n",
              "       'M', 'B', 'M', 'M', 'B', 'B', 'B', 'B', 'B', 'B', 'B', 'B', 'B',\n",
              "       'B', 'B', 'B', 'B', 'B', 'B', 'B', 'B', 'B', 'B', 'B', 'B', 'B',\n",
              "       'B', 'B', 'B', 'M', 'M', 'M', 'M', 'M', 'M', 'B'], dtype=object)"
            ]
          },
          "metadata": {
            "tags": []
          },
          "execution_count": 15
        }
      ]
    },
    {
      "cell_type": "code",
      "metadata": {
        "id": "1CJPcqlx9aln"
      },
      "source": [
        "from sklearn.preprocessing import OneHotEncoder,LabelEncoder"
      ],
      "execution_count": 16,
      "outputs": []
    },
    {
      "cell_type": "code",
      "metadata": {
        "id": "wu8J0vrX9jw6"
      },
      "source": [
        "le=LabelEncoder()"
      ],
      "execution_count": 17,
      "outputs": []
    },
    {
      "cell_type": "code",
      "metadata": {
        "id": "dnkwNmUm9lj-"
      },
      "source": [
        "y=le.fit_transform(y)"
      ],
      "execution_count": 18,
      "outputs": []
    },
    {
      "cell_type": "code",
      "metadata": {
        "colab": {
          "base_uri": "https://localhost:8080/"
        },
        "id": "y0SQw5-39rMj",
        "outputId": "54faf850-c9b2-4124-f072-f90ae13d1acc"
      },
      "source": [
        "y"
      ],
      "execution_count": 19,
      "outputs": [
        {
          "output_type": "execute_result",
          "data": {
            "text/plain": [
              "array([1, 1, 1, 1, 1, 1, 1, 1, 1, 1, 1, 1, 1, 1, 1, 1, 1, 1, 1, 0, 0, 0,\n",
              "       1, 1, 1, 1, 1, 1, 1, 1, 1, 1, 1, 1, 1, 1, 1, 0, 1, 1, 1, 1, 1, 1,\n",
              "       1, 1, 0, 1, 0, 0, 0, 0, 0, 1, 1, 0, 1, 1, 0, 0, 0, 0, 1, 0, 1, 1,\n",
              "       0, 0, 0, 0, 1, 0, 1, 1, 0, 1, 0, 1, 1, 0, 0, 0, 1, 1, 0, 1, 1, 1,\n",
              "       0, 0, 0, 1, 0, 0, 1, 1, 0, 0, 0, 1, 1, 0, 0, 0, 0, 1, 0, 0, 1, 0,\n",
              "       0, 0, 0, 0, 0, 0, 0, 1, 1, 1, 0, 1, 1, 0, 0, 0, 1, 1, 0, 1, 0, 1,\n",
              "       1, 0, 1, 1, 0, 0, 1, 0, 0, 1, 0, 0, 0, 0, 1, 0, 0, 0, 0, 0, 0, 0,\n",
              "       0, 0, 1, 0, 0, 0, 0, 1, 1, 0, 1, 0, 0, 1, 1, 0, 0, 1, 1, 0, 0, 0,\n",
              "       0, 1, 0, 0, 1, 1, 1, 0, 1, 0, 1, 0, 0, 0, 1, 0, 0, 1, 1, 0, 1, 1,\n",
              "       1, 1, 0, 1, 1, 1, 0, 1, 0, 1, 0, 0, 1, 0, 1, 1, 1, 1, 0, 0, 1, 1,\n",
              "       0, 0, 0, 1, 0, 0, 0, 0, 0, 1, 1, 0, 0, 1, 0, 0, 1, 1, 0, 1, 0, 0,\n",
              "       0, 0, 1, 0, 0, 0, 0, 0, 1, 0, 1, 1, 1, 1, 1, 1, 1, 1, 1, 1, 1, 1,\n",
              "       1, 1, 0, 0, 0, 0, 0, 0, 1, 0, 1, 0, 0, 1, 0, 0, 1, 0, 1, 1, 0, 0,\n",
              "       0, 0, 0, 0, 0, 0, 0, 0, 0, 0, 0, 1, 0, 0, 1, 0, 1, 0, 0, 0, 0, 0,\n",
              "       0, 0, 0, 0, 0, 0, 0, 0, 0, 1, 0, 0, 0, 1, 0, 1, 0, 0, 0, 0, 1, 1,\n",
              "       1, 0, 0, 0, 0, 1, 0, 1, 0, 1, 0, 0, 0, 1, 0, 0, 0, 0, 0, 0, 0, 1,\n",
              "       1, 1, 0, 0, 0, 0, 0, 0, 0, 0, 0, 0, 0, 1, 1, 0, 1, 1, 1, 0, 1, 1,\n",
              "       0, 0, 0, 0, 0, 1, 0, 0, 0, 0, 0, 1, 0, 0, 0, 1, 0, 0, 1, 1, 0, 0,\n",
              "       0, 0, 0, 0, 1, 0, 0, 0, 0, 0, 0, 0, 1, 0, 0, 0, 0, 0, 1, 0, 0, 1,\n",
              "       0, 0, 0, 0, 0, 0, 0, 0, 0, 0, 0, 0, 1, 0, 1, 1, 0, 1, 0, 0, 0, 0,\n",
              "       0, 1, 0, 0, 1, 0, 1, 0, 0, 1, 0, 1, 0, 0, 0, 0, 0, 0, 0, 0, 1, 1,\n",
              "       0, 0, 0, 0, 0, 0, 1, 0, 0, 0, 0, 0, 0, 0, 0, 0, 0, 1, 0, 0, 0, 0,\n",
              "       0, 0, 0, 1, 0, 1, 0, 0, 1, 0, 0, 0, 0, 0, 1, 1, 0, 1, 0, 1, 0, 0,\n",
              "       0, 0, 0, 1, 0, 0, 1, 0, 1, 0, 1, 1, 0, 0, 0, 1, 0, 0, 0, 0, 0, 0,\n",
              "       0, 0, 0, 0, 0, 1, 0, 1, 1, 0, 0, 0, 0, 0, 0, 0, 0, 0, 0, 0, 0, 0,\n",
              "       0, 0, 0, 0, 0, 0, 0, 0, 0, 0, 0, 0, 1, 1, 1, 1, 1, 1, 0])"
            ]
          },
          "metadata": {
            "tags": []
          },
          "execution_count": 19
        }
      ]
    },
    {
      "cell_type": "code",
      "metadata": {
        "id": "QXkd7NPq9r1l"
      },
      "source": [
        "# Splitting the dataset into the Training set and Test set\r\n",
        "from sklearn.model_selection import train_test_split"
      ],
      "execution_count": 20,
      "outputs": []
    },
    {
      "cell_type": "code",
      "metadata": {
        "id": "cQ_STVCu9x6z"
      },
      "source": [
        "X_train,X_test,y_train,y_test=train_test_split(X,y,test_size=0.2,random_state=42)"
      ],
      "execution_count": 21,
      "outputs": []
    },
    {
      "cell_type": "code",
      "metadata": {
        "colab": {
          "base_uri": "https://localhost:8080/"
        },
        "id": "KSsrWQT897R4",
        "outputId": "20b67760-7523-4198-a7d6-b930f65c499c"
      },
      "source": [
        "X_train.shape,X_test.shape,y_train.shape,y_test.shape"
      ],
      "execution_count": 22,
      "outputs": [
        {
          "output_type": "execute_result",
          "data": {
            "text/plain": [
              "((455, 30), (114, 30), (455,), (114,))"
            ]
          },
          "metadata": {
            "tags": []
          },
          "execution_count": 22
        }
      ]
    },
    {
      "cell_type": "code",
      "metadata": {
        "id": "mWFznWqA9_a-"
      },
      "source": [
        "#Feature Scaling\r\n",
        "from sklearn.preprocessing import MinMaxScaler,StandardScaler"
      ],
      "execution_count": 23,
      "outputs": []
    },
    {
      "cell_type": "code",
      "metadata": {
        "id": "lyapCKAG-X-x"
      },
      "source": [
        "sc=StandardScaler()"
      ],
      "execution_count": 24,
      "outputs": []
    },
    {
      "cell_type": "code",
      "metadata": {
        "id": "_2YHOe4M-arU"
      },
      "source": [
        "X_train=sc.fit_transform(X_train)\r\n",
        "X_test=sc.fit_transform(X_test)"
      ],
      "execution_count": 25,
      "outputs": []
    },
    {
      "cell_type": "code",
      "metadata": {
        "colab": {
          "base_uri": "https://localhost:8080/"
        },
        "id": "XPQmsvD7-pjZ",
        "outputId": "7fb9c813-8f81-4a45-f990-d5aa2463bb91"
      },
      "source": [
        "X_train"
      ],
      "execution_count": 26,
      "outputs": [
        {
          "output_type": "execute_result",
          "data": {
            "text/plain": [
              "array([[-1.44075296, -0.43531947, -1.36208497, ...,  0.9320124 ,\n",
              "         2.09724217,  1.88645014],\n",
              "       [ 1.97409619,  1.73302577,  2.09167167, ...,  2.6989469 ,\n",
              "         1.89116053,  2.49783848],\n",
              "       [-1.39998202, -1.24962228, -1.34520926, ..., -0.97023893,\n",
              "         0.59760192,  0.0578942 ],\n",
              "       ...,\n",
              "       [ 0.04880192, -0.55500086, -0.06512547, ..., -1.23903365,\n",
              "        -0.70863864, -1.27145475],\n",
              "       [-0.03896885,  0.10207345, -0.03137406, ...,  1.05001236,\n",
              "         0.43432185,  1.21336207],\n",
              "       [-0.54860557,  0.31327591, -0.60350155, ..., -0.61102866,\n",
              "        -0.3345212 , -0.84628745]])"
            ]
          },
          "metadata": {
            "tags": []
          },
          "execution_count": 26
        }
      ]
    },
    {
      "cell_type": "code",
      "metadata": {
        "colab": {
          "base_uri": "https://localhost:8080/"
        },
        "id": "MSW4RwJo-rvU",
        "outputId": "d003511d-e6a5-4b26-bd45-13e371e4c7d4"
      },
      "source": [
        "X_test"
      ],
      "execution_count": 27,
      "outputs": [
        {
          "output_type": "execute_result",
          "data": {
            "text/plain": [
              "array([[-0.4877952 , -0.25088379, -0.46378664, ..., -0.21989091,\n",
              "         0.23083947,  0.17173277],\n",
              "       [ 1.37325734,  0.36318719,  1.29254295, ...,  0.93019499,\n",
              "        -0.58958803, -0.972629  ],\n",
              "       [ 0.37225845, -0.05148067,  0.38772954, ...,  0.52157274,\n",
              "        -0.08280128, -0.21536971],\n",
              "       ...,\n",
              "       [-0.76105639, -1.08248546, -0.76208585, ..., -0.30042664,\n",
              "        -0.3893541 , -0.32657562],\n",
              "       [ 0.01558068,  1.84511495,  0.00969106, ..., -0.50681802,\n",
              "        -1.76086788, -0.33345979],\n",
              "       [ 1.88813896,  2.58607883,  1.79246268, ...,  0.73702811,\n",
              "        -0.02786985, -0.10998887]])"
            ]
          },
          "metadata": {
            "tags": []
          },
          "execution_count": 27
        }
      ]
    },
    {
      "cell_type": "code",
      "metadata": {
        "id": "0r8pUlhE-s8m"
      },
      "source": [
        "import keras"
      ],
      "execution_count": 28,
      "outputs": []
    },
    {
      "cell_type": "code",
      "metadata": {
        "id": "PWl9BV7O-1xV"
      },
      "source": [
        "from keras.models import Sequential"
      ],
      "execution_count": 29,
      "outputs": []
    },
    {
      "cell_type": "code",
      "metadata": {
        "id": "qVDICoqkAYl3"
      },
      "source": [
        "from keras.layers import Dense"
      ],
      "execution_count": 30,
      "outputs": []
    },
    {
      "cell_type": "code",
      "metadata": {
        "id": "AkmcHkfkAcWc"
      },
      "source": [
        "# Adding the Input & First hidden Layers\r\n",
        "classifier=Sequential()\r\n",
        "classifier.add(Dense(16,kernel_initializer='uniform',activation='relu',input_dim=30))\r\n",
        "# Adding Second Hidden Layer\r\n",
        "classifier.add(Dense(16,kernel_initializer='uniform',activation='relu'))\r\n",
        "# Output Layer\r\n",
        "classifier.add(Dense(1,kernel_initializer='uniform',activation='sigmoid'))"
      ],
      "execution_count": 35,
      "outputs": []
    },
    {
      "cell_type": "code",
      "metadata": {
        "id": "PFw7feoiBBY_"
      },
      "source": [
        "classifier.compile(optimizer='Adam',loss='binary_crossentropy',metrics=['accuracy'])"
      ],
      "execution_count": 36,
      "outputs": []
    },
    {
      "cell_type": "code",
      "metadata": {
        "colab": {
          "base_uri": "https://localhost:8080/"
        },
        "id": "YeCNE1idDzpS",
        "outputId": "bb09d4f6-a464-40d7-9d16-b8ac185be5c5"
      },
      "source": [
        "classifier.fit(X_train,y_train,batch_size=100,epochs=150)"
      ],
      "execution_count": 37,
      "outputs": [
        {
          "output_type": "stream",
          "text": [
            "Epoch 1/150\n",
            "5/5 [==============================] - 1s 2ms/step - loss: 0.6928 - accuracy: 0.5767\n",
            "Epoch 2/150\n",
            "5/5 [==============================] - 0s 2ms/step - loss: 0.6910 - accuracy: 0.6549\n",
            "Epoch 3/150\n",
            "5/5 [==============================] - 0s 2ms/step - loss: 0.6885 - accuracy: 0.7411\n",
            "Epoch 4/150\n",
            "5/5 [==============================] - 0s 2ms/step - loss: 0.6847 - accuracy: 0.8271\n",
            "Epoch 5/150\n",
            "5/5 [==============================] - 0s 2ms/step - loss: 0.6797 - accuracy: 0.8927\n",
            "Epoch 6/150\n",
            "5/5 [==============================] - 0s 2ms/step - loss: 0.6718 - accuracy: 0.9241\n",
            "Epoch 7/150\n",
            "5/5 [==============================] - 0s 2ms/step - loss: 0.6623 - accuracy: 0.9313\n",
            "Epoch 8/150\n",
            "5/5 [==============================] - 0s 2ms/step - loss: 0.6474 - accuracy: 0.9392\n",
            "Epoch 9/150\n",
            "5/5 [==============================] - 0s 2ms/step - loss: 0.6278 - accuracy: 0.9402\n",
            "Epoch 10/150\n",
            "5/5 [==============================] - 0s 2ms/step - loss: 0.6022 - accuracy: 0.9483\n",
            "Epoch 11/150\n",
            "5/5 [==============================] - 0s 2ms/step - loss: 0.5721 - accuracy: 0.9316\n",
            "Epoch 12/150\n",
            "5/5 [==============================] - 0s 2ms/step - loss: 0.5397 - accuracy: 0.9549\n",
            "Epoch 13/150\n",
            "5/5 [==============================] - 0s 2ms/step - loss: 0.4978 - accuracy: 0.9371\n",
            "Epoch 14/150\n",
            "5/5 [==============================] - 0s 2ms/step - loss: 0.4538 - accuracy: 0.9504\n",
            "Epoch 15/150\n",
            "5/5 [==============================] - 0s 2ms/step - loss: 0.4144 - accuracy: 0.9530\n",
            "Epoch 16/150\n",
            "5/5 [==============================] - 0s 2ms/step - loss: 0.3756 - accuracy: 0.9505\n",
            "Epoch 17/150\n",
            "5/5 [==============================] - 0s 2ms/step - loss: 0.3362 - accuracy: 0.9636\n",
            "Epoch 18/150\n",
            "5/5 [==============================] - 0s 3ms/step - loss: 0.3030 - accuracy: 0.9504\n",
            "Epoch 19/150\n",
            "5/5 [==============================] - 0s 2ms/step - loss: 0.2541 - accuracy: 0.9709\n",
            "Epoch 20/150\n",
            "5/5 [==============================] - 0s 2ms/step - loss: 0.2367 - accuracy: 0.9671\n",
            "Epoch 21/150\n",
            "5/5 [==============================] - 0s 2ms/step - loss: 0.2198 - accuracy: 0.9751\n",
            "Epoch 22/150\n",
            "5/5 [==============================] - 0s 2ms/step - loss: 0.2025 - accuracy: 0.9640\n",
            "Epoch 23/150\n",
            "5/5 [==============================] - 0s 2ms/step - loss: 0.1903 - accuracy: 0.9588\n",
            "Epoch 24/150\n",
            "5/5 [==============================] - 0s 2ms/step - loss: 0.1737 - accuracy: 0.9628\n",
            "Epoch 25/150\n",
            "5/5 [==============================] - 0s 2ms/step - loss: 0.1585 - accuracy: 0.9703\n",
            "Epoch 26/150\n",
            "5/5 [==============================] - 0s 2ms/step - loss: 0.1480 - accuracy: 0.9670\n",
            "Epoch 27/150\n",
            "5/5 [==============================] - 0s 2ms/step - loss: 0.1260 - accuracy: 0.9766\n",
            "Epoch 28/150\n",
            "5/5 [==============================] - 0s 2ms/step - loss: 0.1149 - accuracy: 0.9784\n",
            "Epoch 29/150\n",
            "5/5 [==============================] - 0s 3ms/step - loss: 0.1323 - accuracy: 0.9657\n",
            "Epoch 30/150\n",
            "5/5 [==============================] - 0s 2ms/step - loss: 0.1156 - accuracy: 0.9740\n",
            "Epoch 31/150\n",
            "5/5 [==============================] - 0s 2ms/step - loss: 0.1088 - accuracy: 0.9742\n",
            "Epoch 32/150\n",
            "5/5 [==============================] - 0s 3ms/step - loss: 0.0959 - accuracy: 0.9785\n",
            "Epoch 33/150\n",
            "5/5 [==============================] - 0s 3ms/step - loss: 0.0834 - accuracy: 0.9855\n",
            "Epoch 34/150\n",
            "5/5 [==============================] - 0s 3ms/step - loss: 0.0941 - accuracy: 0.9818\n",
            "Epoch 35/150\n",
            "5/5 [==============================] - 0s 2ms/step - loss: 0.0963 - accuracy: 0.9830\n",
            "Epoch 36/150\n",
            "5/5 [==============================] - 0s 3ms/step - loss: 0.0874 - accuracy: 0.9790\n",
            "Epoch 37/150\n",
            "5/5 [==============================] - 0s 2ms/step - loss: 0.0886 - accuracy: 0.9782\n",
            "Epoch 38/150\n",
            "5/5 [==============================] - 0s 2ms/step - loss: 0.0861 - accuracy: 0.9836\n",
            "Epoch 39/150\n",
            "5/5 [==============================] - 0s 4ms/step - loss: 0.0846 - accuracy: 0.9815\n",
            "Epoch 40/150\n",
            "5/5 [==============================] - 0s 2ms/step - loss: 0.0651 - accuracy: 0.9901\n",
            "Epoch 41/150\n",
            "5/5 [==============================] - 0s 2ms/step - loss: 0.0699 - accuracy: 0.9878\n",
            "Epoch 42/150\n",
            "5/5 [==============================] - 0s 2ms/step - loss: 0.0649 - accuracy: 0.9856\n",
            "Epoch 43/150\n",
            "5/5 [==============================] - 0s 2ms/step - loss: 0.0624 - accuracy: 0.9899\n",
            "Epoch 44/150\n",
            "5/5 [==============================] - 0s 2ms/step - loss: 0.0732 - accuracy: 0.9861\n",
            "Epoch 45/150\n",
            "5/5 [==============================] - 0s 2ms/step - loss: 0.0705 - accuracy: 0.9868\n",
            "Epoch 46/150\n",
            "5/5 [==============================] - 0s 2ms/step - loss: 0.0673 - accuracy: 0.9876\n",
            "Epoch 47/150\n",
            "5/5 [==============================] - 0s 2ms/step - loss: 0.0667 - accuracy: 0.9851\n",
            "Epoch 48/150\n",
            "5/5 [==============================] - 0s 2ms/step - loss: 0.0716 - accuracy: 0.9838\n",
            "Epoch 49/150\n",
            "5/5 [==============================] - 0s 2ms/step - loss: 0.0850 - accuracy: 0.9795\n",
            "Epoch 50/150\n",
            "5/5 [==============================] - 0s 2ms/step - loss: 0.0746 - accuracy: 0.9824\n",
            "Epoch 51/150\n",
            "5/5 [==============================] - 0s 2ms/step - loss: 0.0852 - accuracy: 0.9772\n",
            "Epoch 52/150\n",
            "5/5 [==============================] - 0s 2ms/step - loss: 0.0626 - accuracy: 0.9865\n",
            "Epoch 53/150\n",
            "5/5 [==============================] - 0s 2ms/step - loss: 0.0596 - accuracy: 0.9863\n",
            "Epoch 54/150\n",
            "5/5 [==============================] - 0s 2ms/step - loss: 0.0814 - accuracy: 0.9796\n",
            "Epoch 55/150\n",
            "5/5 [==============================] - 0s 2ms/step - loss: 0.0633 - accuracy: 0.9871\n",
            "Epoch 56/150\n",
            "5/5 [==============================] - 0s 2ms/step - loss: 0.0604 - accuracy: 0.9847\n",
            "Epoch 57/150\n",
            "5/5 [==============================] - 0s 2ms/step - loss: 0.0673 - accuracy: 0.9829\n",
            "Epoch 58/150\n",
            "5/5 [==============================] - 0s 2ms/step - loss: 0.0583 - accuracy: 0.9860\n",
            "Epoch 59/150\n",
            "5/5 [==============================] - 0s 2ms/step - loss: 0.0680 - accuracy: 0.9853\n",
            "Epoch 60/150\n",
            "5/5 [==============================] - 0s 2ms/step - loss: 0.0691 - accuracy: 0.9807\n",
            "Epoch 61/150\n",
            "5/5 [==============================] - 0s 5ms/step - loss: 0.0546 - accuracy: 0.9845\n",
            "Epoch 62/150\n",
            "5/5 [==============================] - 0s 2ms/step - loss: 0.0420 - accuracy: 0.9931\n",
            "Epoch 63/150\n",
            "5/5 [==============================] - 0s 2ms/step - loss: 0.0452 - accuracy: 0.9899\n",
            "Epoch 64/150\n",
            "5/5 [==============================] - 0s 2ms/step - loss: 0.0512 - accuracy: 0.9837\n",
            "Epoch 65/150\n",
            "5/5 [==============================] - 0s 2ms/step - loss: 0.0597 - accuracy: 0.9796\n",
            "Epoch 66/150\n",
            "5/5 [==============================] - 0s 2ms/step - loss: 0.0520 - accuracy: 0.9853\n",
            "Epoch 67/150\n",
            "5/5 [==============================] - 0s 2ms/step - loss: 0.0413 - accuracy: 0.9907\n",
            "Epoch 68/150\n",
            "5/5 [==============================] - 0s 2ms/step - loss: 0.0541 - accuracy: 0.9825\n",
            "Epoch 69/150\n",
            "5/5 [==============================] - 0s 3ms/step - loss: 0.0665 - accuracy: 0.9811\n",
            "Epoch 70/150\n",
            "5/5 [==============================] - 0s 2ms/step - loss: 0.0568 - accuracy: 0.9862\n",
            "Epoch 71/150\n",
            "5/5 [==============================] - 0s 2ms/step - loss: 0.0596 - accuracy: 0.9846\n",
            "Epoch 72/150\n",
            "5/5 [==============================] - 0s 2ms/step - loss: 0.0525 - accuracy: 0.9889\n",
            "Epoch 73/150\n",
            "5/5 [==============================] - 0s 2ms/step - loss: 0.0500 - accuracy: 0.9855\n",
            "Epoch 74/150\n",
            "5/5 [==============================] - 0s 3ms/step - loss: 0.0611 - accuracy: 0.9863\n",
            "Epoch 75/150\n",
            "5/5 [==============================] - 0s 2ms/step - loss: 0.0630 - accuracy: 0.9813\n",
            "Epoch 76/150\n",
            "5/5 [==============================] - 0s 2ms/step - loss: 0.0588 - accuracy: 0.9814\n",
            "Epoch 77/150\n",
            "5/5 [==============================] - 0s 3ms/step - loss: 0.0366 - accuracy: 0.9924\n",
            "Epoch 78/150\n",
            "5/5 [==============================] - 0s 2ms/step - loss: 0.0558 - accuracy: 0.9837\n",
            "Epoch 79/150\n",
            "5/5 [==============================] - 0s 2ms/step - loss: 0.0430 - accuracy: 0.9881\n",
            "Epoch 80/150\n",
            "5/5 [==============================] - 0s 2ms/step - loss: 0.0643 - accuracy: 0.9803\n",
            "Epoch 81/150\n",
            "5/5 [==============================] - 0s 3ms/step - loss: 0.0605 - accuracy: 0.9859\n",
            "Epoch 82/150\n",
            "5/5 [==============================] - 0s 2ms/step - loss: 0.0395 - accuracy: 0.9885\n",
            "Epoch 83/150\n",
            "5/5 [==============================] - 0s 2ms/step - loss: 0.0493 - accuracy: 0.9889\n",
            "Epoch 84/150\n",
            "5/5 [==============================] - 0s 2ms/step - loss: 0.0423 - accuracy: 0.9875\n",
            "Epoch 85/150\n",
            "5/5 [==============================] - 0s 2ms/step - loss: 0.0433 - accuracy: 0.9881\n",
            "Epoch 86/150\n",
            "5/5 [==============================] - 0s 2ms/step - loss: 0.0433 - accuracy: 0.9909\n",
            "Epoch 87/150\n",
            "5/5 [==============================] - 0s 2ms/step - loss: 0.0625 - accuracy: 0.9849\n",
            "Epoch 88/150\n",
            "5/5 [==============================] - 0s 3ms/step - loss: 0.0502 - accuracy: 0.9920\n",
            "Epoch 89/150\n",
            "5/5 [==============================] - 0s 2ms/step - loss: 0.0585 - accuracy: 0.9845\n",
            "Epoch 90/150\n",
            "5/5 [==============================] - 0s 3ms/step - loss: 0.0530 - accuracy: 0.9837\n",
            "Epoch 91/150\n",
            "5/5 [==============================] - 0s 3ms/step - loss: 0.0425 - accuracy: 0.9893\n",
            "Epoch 92/150\n",
            "5/5 [==============================] - 0s 3ms/step - loss: 0.0444 - accuracy: 0.9865\n",
            "Epoch 93/150\n",
            "5/5 [==============================] - 0s 3ms/step - loss: 0.0468 - accuracy: 0.9891\n",
            "Epoch 94/150\n",
            "5/5 [==============================] - 0s 3ms/step - loss: 0.0344 - accuracy: 0.9933\n",
            "Epoch 95/150\n",
            "5/5 [==============================] - 0s 3ms/step - loss: 0.0302 - accuracy: 0.9933\n",
            "Epoch 96/150\n",
            "5/5 [==============================] - 0s 2ms/step - loss: 0.0486 - accuracy: 0.9854\n",
            "Epoch 97/150\n",
            "5/5 [==============================] - 0s 2ms/step - loss: 0.0416 - accuracy: 0.9858\n",
            "Epoch 98/150\n",
            "5/5 [==============================] - 0s 2ms/step - loss: 0.0303 - accuracy: 0.9941\n",
            "Epoch 99/150\n",
            "5/5 [==============================] - 0s 3ms/step - loss: 0.0358 - accuracy: 0.9906\n",
            "Epoch 100/150\n",
            "5/5 [==============================] - 0s 3ms/step - loss: 0.0479 - accuracy: 0.9862\n",
            "Epoch 101/150\n",
            "5/5 [==============================] - 0s 3ms/step - loss: 0.0440 - accuracy: 0.9897\n",
            "Epoch 102/150\n",
            "5/5 [==============================] - 0s 3ms/step - loss: 0.0414 - accuracy: 0.9856\n",
            "Epoch 103/150\n",
            "5/5 [==============================] - 0s 2ms/step - loss: 0.0334 - accuracy: 0.9912\n",
            "Epoch 104/150\n",
            "5/5 [==============================] - 0s 2ms/step - loss: 0.0466 - accuracy: 0.9856\n",
            "Epoch 105/150\n",
            "5/5 [==============================] - 0s 3ms/step - loss: 0.0337 - accuracy: 0.9908\n",
            "Epoch 106/150\n",
            "5/5 [==============================] - 0s 2ms/step - loss: 0.0372 - accuracy: 0.9862\n",
            "Epoch 107/150\n",
            "5/5 [==============================] - 0s 3ms/step - loss: 0.0336 - accuracy: 0.9904\n",
            "Epoch 108/150\n",
            "5/5 [==============================] - 0s 2ms/step - loss: 0.0395 - accuracy: 0.9906\n",
            "Epoch 109/150\n",
            "5/5 [==============================] - 0s 2ms/step - loss: 0.0307 - accuracy: 0.9909\n",
            "Epoch 110/150\n",
            "5/5 [==============================] - 0s 2ms/step - loss: 0.0238 - accuracy: 0.9924\n",
            "Epoch 111/150\n",
            "5/5 [==============================] - 0s 2ms/step - loss: 0.0398 - accuracy: 0.9870\n",
            "Epoch 112/150\n",
            "5/5 [==============================] - 0s 2ms/step - loss: 0.0306 - accuracy: 0.9899\n",
            "Epoch 113/150\n",
            "5/5 [==============================] - 0s 2ms/step - loss: 0.0273 - accuracy: 0.9893\n",
            "Epoch 114/150\n",
            "5/5 [==============================] - 0s 2ms/step - loss: 0.0246 - accuracy: 0.9942\n",
            "Epoch 115/150\n",
            "5/5 [==============================] - 0s 2ms/step - loss: 0.0448 - accuracy: 0.9848\n",
            "Epoch 116/150\n",
            "5/5 [==============================] - 0s 2ms/step - loss: 0.0249 - accuracy: 0.9960\n",
            "Epoch 117/150\n",
            "5/5 [==============================] - 0s 2ms/step - loss: 0.0345 - accuracy: 0.9932\n",
            "Epoch 118/150\n",
            "5/5 [==============================] - 0s 2ms/step - loss: 0.0463 - accuracy: 0.9874\n",
            "Epoch 119/150\n",
            "5/5 [==============================] - 0s 2ms/step - loss: 0.0270 - accuracy: 0.9941\n",
            "Epoch 120/150\n",
            "5/5 [==============================] - 0s 2ms/step - loss: 0.0378 - accuracy: 0.9935\n",
            "Epoch 121/150\n",
            "5/5 [==============================] - 0s 3ms/step - loss: 0.0396 - accuracy: 0.9916\n",
            "Epoch 122/150\n",
            "5/5 [==============================] - 0s 3ms/step - loss: 0.0222 - accuracy: 0.9954\n",
            "Epoch 123/150\n",
            "5/5 [==============================] - 0s 3ms/step - loss: 0.0233 - accuracy: 0.9956\n",
            "Epoch 124/150\n",
            "5/5 [==============================] - 0s 2ms/step - loss: 0.0297 - accuracy: 0.9921\n",
            "Epoch 125/150\n",
            "5/5 [==============================] - 0s 2ms/step - loss: 0.0277 - accuracy: 0.9929\n",
            "Epoch 126/150\n",
            "5/5 [==============================] - 0s 3ms/step - loss: 0.0242 - accuracy: 0.9954\n",
            "Epoch 127/150\n",
            "5/5 [==============================] - 0s 4ms/step - loss: 0.0195 - accuracy: 0.9968\n",
            "Epoch 128/150\n",
            "5/5 [==============================] - 0s 2ms/step - loss: 0.0335 - accuracy: 0.9907\n",
            "Epoch 129/150\n",
            "5/5 [==============================] - 0s 2ms/step - loss: 0.0277 - accuracy: 0.9932\n",
            "Epoch 130/150\n",
            "5/5 [==============================] - 0s 2ms/step - loss: 0.0288 - accuracy: 0.9904\n",
            "Epoch 131/150\n",
            "5/5 [==============================] - 0s 2ms/step - loss: 0.0197 - accuracy: 0.9956\n",
            "Epoch 132/150\n",
            "5/5 [==============================] - 0s 2ms/step - loss: 0.0328 - accuracy: 0.9929\n",
            "Epoch 133/150\n",
            "5/5 [==============================] - 0s 2ms/step - loss: 0.0217 - accuracy: 0.9964\n",
            "Epoch 134/150\n",
            "5/5 [==============================] - 0s 2ms/step - loss: 0.0372 - accuracy: 0.9874\n",
            "Epoch 135/150\n",
            "5/5 [==============================] - 0s 2ms/step - loss: 0.0239 - accuracy: 0.9932\n",
            "Epoch 136/150\n",
            "5/5 [==============================] - 0s 2ms/step - loss: 0.0224 - accuracy: 0.9941\n",
            "Epoch 137/150\n",
            "5/5 [==============================] - 0s 2ms/step - loss: 0.0340 - accuracy: 0.9904\n",
            "Epoch 138/150\n",
            "5/5 [==============================] - 0s 2ms/step - loss: 0.0249 - accuracy: 0.9942\n",
            "Epoch 139/150\n",
            "5/5 [==============================] - 0s 2ms/step - loss: 0.0207 - accuracy: 0.9946\n",
            "Epoch 140/150\n",
            "5/5 [==============================] - 0s 2ms/step - loss: 0.0197 - accuracy: 0.9952\n",
            "Epoch 141/150\n",
            "5/5 [==============================] - 0s 3ms/step - loss: 0.0324 - accuracy: 0.9899\n",
            "Epoch 142/150\n",
            "5/5 [==============================] - 0s 3ms/step - loss: 0.0175 - accuracy: 0.9934\n",
            "Epoch 143/150\n",
            "5/5 [==============================] - 0s 3ms/step - loss: 0.0229 - accuracy: 0.9950\n",
            "Epoch 144/150\n",
            "5/5 [==============================] - 0s 2ms/step - loss: 0.0187 - accuracy: 0.9946\n",
            "Epoch 145/150\n",
            "5/5 [==============================] - 0s 2ms/step - loss: 0.0180 - accuracy: 0.9950\n",
            "Epoch 146/150\n",
            "5/5 [==============================] - 0s 3ms/step - loss: 0.0313 - accuracy: 0.9891\n",
            "Epoch 147/150\n",
            "5/5 [==============================] - 0s 3ms/step - loss: 0.0231 - accuracy: 0.9916\n",
            "Epoch 148/150\n",
            "5/5 [==============================] - 0s 2ms/step - loss: 0.0242 - accuracy: 0.9916\n",
            "Epoch 149/150\n",
            "5/5 [==============================] - 0s 2ms/step - loss: 0.0271 - accuracy: 0.9891\n",
            "Epoch 150/150\n",
            "5/5 [==============================] - 0s 2ms/step - loss: 0.0182 - accuracy: 0.9929\n"
          ],
          "name": "stdout"
        },
        {
          "output_type": "execute_result",
          "data": {
            "text/plain": [
              "<tensorflow.python.keras.callbacks.History at 0x7fa6c62d0550>"
            ]
          },
          "metadata": {
            "tags": []
          },
          "execution_count": 37
        }
      ]
    },
    {
      "cell_type": "code",
      "metadata": {
        "id": "P3vLHeftEGpz"
      },
      "source": [
        "# Predicting the Test Set results\r\n",
        "y_pred=classifier.predict(X_test)\r\n",
        "y_pred=(y_pred>0.5)"
      ],
      "execution_count": 41,
      "outputs": []
    },
    {
      "cell_type": "code",
      "metadata": {
        "id": "gj9eA4DxFMX9"
      },
      "source": [
        "# Making the confusion metrics\r\n",
        "from sklearn.metrics import confusion_matrix,accuracy_score,mean_absolute_error,mean_squared_error,classification_report"
      ],
      "execution_count": 39,
      "outputs": []
    },
    {
      "cell_type": "code",
      "metadata": {
        "id": "aGGpg-4ZFpE8"
      },
      "source": [
        "cm=confusion_matrix(y_test,y_pred)"
      ],
      "execution_count": 42,
      "outputs": []
    },
    {
      "cell_type": "code",
      "metadata": {
        "colab": {
          "base_uri": "https://localhost:8080/",
          "height": 286
        },
        "id": "xcOe4XYPFtIe",
        "outputId": "e8274dff-fada-46e7-887b-eba03bdf026c"
      },
      "source": [
        "sns.heatmap(cm,annot=True)"
      ],
      "execution_count": 43,
      "outputs": [
        {
          "output_type": "execute_result",
          "data": {
            "text/plain": [
              "<matplotlib.axes._subplots.AxesSubplot at 0x7fa6c3c6b7f0>"
            ]
          },
          "metadata": {
            "tags": []
          },
          "execution_count": 43
        },
        {
          "output_type": "display_data",
          "data": {
            "image/png": "[encoded data removed]",
            "text/plain": [
              "<Figure size 432x288 with 2 Axes>"
            ]
          },
          "metadata": {
            "tags": [],
            "needs_background": "light"
          }
        }
      ]
    },
    {
      "cell_type": "code",
      "metadata": {
        "id": "IqDadgTSGPcB"
      },
      "source": [
        ""
      ],
      "execution_count": null,
      "outputs": []
    }
  ]
}